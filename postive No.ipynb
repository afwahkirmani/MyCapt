{
 "cells": [
  {
   "cell_type": "code",
   "execution_count": 38,
   "id": "74c61808-4924-4362-9e73-9b90a9b2c4d8",
   "metadata": {},
   "outputs": [
    {
     "name": "stdin",
     "output_type": "stream",
     "text": [
      "Enter numbers:  7 4 -4 5 -6\n"
     ]
    },
    {
     "name": "stdout",
     "output_type": "stream",
     "text": [
      "Positive numbers:\n",
      "7\n",
      "4\n",
      "5\n"
     ]
    }
   ],
   "source": [
    "num_inp = input(\"Enter numbers: \")\n",
    "num_list = [int(num) for num in num_inp.split()]\n",
    "\n",
    "print(\"Positive numbers:\")\n",
    "for i in num_list:\n",
    "    if i >= 0:  \n",
    "        print(i)"
   ]
  }
 ],
 "metadata": {
  "kernelspec": {
   "display_name": "Python 3 (ipykernel)",
   "language": "python",
   "name": "python3"
  },
  "language_info": {
   "codemirror_mode": {
    "name": "ipython",
    "version": 3
   },
   "file_extension": ".py",
   "mimetype": "text/x-python",
   "name": "python",
   "nbconvert_exporter": "python",
   "pygments_lexer": "ipython3",
   "version": "3.12.4"
  }
 },
 "nbformat": 4,
 "nbformat_minor": 5
}
